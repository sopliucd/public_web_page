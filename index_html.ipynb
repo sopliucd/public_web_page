{
  "nbformat": 4,
  "nbformat_minor": 0,
  "metadata": {
    "colab": {
      "provenance": []
    },
    "kernelspec": {
      "name": "python3",
      "display_name": "Python 3"
    },
    "language_info": {
      "name": "python"
    }
  },
  "cells": [
    {
      "cell_type": "code",
      "execution_count": null,
      "metadata": {
        "id": "h46OjFVUKzQO"
      },
      "outputs": [],
      "source": [
        "<!DOCTYPE>\n",
        "<HTML>\n",
        "    <HEAD>\n",
        "        <TITLE> This is the web page title</TITLE>\n",
        "    </HEAD>\n",
        "    <BODY>\n",
        "        <H1>Heading 1</H1>\n",
        "        <H2>Heading 2</H2>\n",
        "        <P> Paragraph </P>\n",
        "        <CODE> CODE </CODE>\n",
        "    </BODY>\n",
        "</HTML>"
      ]
    }
  ]
}